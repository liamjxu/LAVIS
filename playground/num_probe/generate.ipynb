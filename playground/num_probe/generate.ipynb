{
 "cells": [
  {
   "cell_type": "code",
   "execution_count": 8,
   "metadata": {},
   "outputs": [
    {
     "name": "stderr",
     "output_type": "stream",
     "text": [
      "100%|██████████| 100/100 [00:01<00:00, 83.15it/s]\n"
     ]
    }
   ],
   "source": [
    "import random\n",
    "from PIL import Image, ImageDraw, ImageFont\n",
    "from tqdm import trange\n",
    "import json\n",
    "\n",
    "def generate_nums(cnt):\n",
    "    annotation = []\n",
    "    for idx in trange(cnt):\n",
    "        # Image dimensions\n",
    "        width = 800\n",
    "        height = 600\n",
    "\n",
    "        # Create a new blank image\n",
    "        image = Image.new(\"RGB\", (width, height), \"white\")\n",
    "        draw = ImageDraw.Draw(image)\n",
    "\n",
    "        # Font settings\n",
    "        font_size = 24\n",
    "        font = ImageFont.truetype(\"arial.ttf\", font_size)\n",
    "\n",
    "        # Generate and place random numbers\n",
    "        min_num_count = 3  # Minimum of random numbers to generate\n",
    "        max_num_count = 12  # Maximum of random numbers to generate\n",
    "        num_count = random.randint(min_num_count, max_num_count)\n",
    "        min_value = 0  # Minimum value for random numbers\n",
    "        max_value = 100  # Maximum value for random numbers\n",
    "\n",
    "        number_gt = []\n",
    "        placed_numbers = []  # List to store the positions of placed numbers\n",
    "\n",
    "        for _ in range(num_count):\n",
    "            number = random.randint(min_value, max_value)\n",
    "            number_gt.append(number)\n",
    "\n",
    "            # Generate random position\n",
    "            x = random.randint(0, width - font_size)\n",
    "            y = random.randint(0, height - font_size)\n",
    "            \n",
    "            # Check for overlap with previously placed numbers\n",
    "            overlap = False\n",
    "            for num_x, num_y in placed_numbers:\n",
    "                if (abs(x - num_x) < font_size) and (abs(y - num_y) < font_size):\n",
    "                    overlap = True\n",
    "                    break\n",
    "            \n",
    "            # If overlap is found, generate new position\n",
    "            while overlap:\n",
    "                x = random.randint(0, width - font_size)\n",
    "                y = random.randint(0, height - font_size)\n",
    "                overlap = False\n",
    "                for num_x, num_y in placed_numbers:\n",
    "                    if (abs(x - num_x) < font_size) and (abs(y - num_y) < font_size):\n",
    "                        overlap = True\n",
    "                        break\n",
    "            \n",
    "            # Draw number on the image and update placed_numbers\n",
    "            draw.text((x, y), str(number), fill=\"black\", font=font)\n",
    "            placed_numbers.append((x, y))\n",
    "\n",
    "\n",
    "        # Save the image\n",
    "        image.save(f\"num_{idx}.png\")\n",
    "        annotation.append({\n",
    "            'imgname': f\"num_{idx}.png\",\n",
    "            'query': 'not used',\n",
    "            'label': number_gt\n",
    "        })\n",
    "\n",
    "    with open('annotation.json', 'w') as f:\n",
    "        json.dump(annotation, f, indent=4)\n",
    "\n",
    "generate_nums(100)"
   ]
  },
  {
   "cell_type": "code",
   "execution_count": null,
   "metadata": {},
   "outputs": [],
   "source": []
  }
 ],
 "metadata": {
  "kernelspec": {
   "display_name": "base",
   "language": "python",
   "name": "python3"
  },
  "language_info": {
   "codemirror_mode": {
    "name": "ipython",
    "version": 3
   },
   "file_extension": ".py",
   "mimetype": "text/x-python",
   "name": "python",
   "nbconvert_exporter": "python",
   "pygments_lexer": "ipython3",
   "version": "3.10.9"
  },
  "orig_nbformat": 4
 },
 "nbformat": 4,
 "nbformat_minor": 2
}
